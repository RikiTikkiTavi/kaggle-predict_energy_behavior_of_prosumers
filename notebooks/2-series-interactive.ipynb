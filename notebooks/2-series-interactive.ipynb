{
 "cells": [
  {
   "cell_type": "code",
   "execution_count": 4,
   "id": "initial_id",
   "metadata": {
    "collapsed": true,
    "ExecuteTime": {
     "end_time": "2023-12-17T21:49:05.751951298Z",
     "start_time": "2023-12-17T21:49:05.703054573Z"
    }
   },
   "outputs": [
    {
     "data": {
      "text/plain": "PosixPath('/beegfs/.global0/ws/s4610340-energy_behavior/yahor/kaggle-predict_energy_behavior_of_prosumers/data/raw')"
     },
     "execution_count": 4,
     "metadata": {},
     "output_type": "execute_result"
    }
   ],
   "source": [
    "import pandas as pd\n",
    "import os\n",
    "from pathlib import Path\n",
    "import plotly.graph_objects as go\n",
    "import plotly.express as px\n",
    "import seaborn as sns\n",
    "import matplotlib.pyplot as plt\n",
    "from ipywidgets import widgets\n",
    "\n",
    "PATH_REPO_ROOT = Path().resolve().parent\n",
    "PATH_DATA = PATH_REPO_ROOT / \"data\"\n",
    "PATH_DATA_RAW = PATH_DATA / \"raw\"\n",
    "PATH_DATA_RAW"
   ]
  },
  {
   "cell_type": "code",
   "execution_count": 3,
   "outputs": [
    {
     "data": {
      "text/plain": "         county  is_business  product_type   target  is_consumption  \\\n0             0        False             1    0.713           False   \n1             0        False             1   96.590            True   \n2             0        False             2    0.000           False   \n3             0        False             2   17.314            True   \n4             0        False             3    2.904           False   \n...         ...          ...           ...      ...             ...   \n2018347      15         True             0  197.233            True   \n2018348      15         True             1    0.000           False   \n2018349      15         True             1   28.404            True   \n2018350      15         True             3    0.000           False   \n2018351      15         True             3  196.240            True   \n\n                   datetime  data_block_id   row_id  prediction_unit_id  \n0       2021-09-01 00:00:00              0        0                   0  \n1       2021-09-01 00:00:00              0        1                   0  \n2       2021-09-01 00:00:00              0        2                   1  \n3       2021-09-01 00:00:00              0        3                   1  \n4       2021-09-01 00:00:00              0        4                   2  \n...                     ...            ...      ...                 ...  \n2018347 2023-05-31 23:00:00            637  2018347                  64  \n2018348 2023-05-31 23:00:00            637  2018348                  59  \n2018349 2023-05-31 23:00:00            637  2018349                  59  \n2018350 2023-05-31 23:00:00            637  2018350                  60  \n2018351 2023-05-31 23:00:00            637  2018351                  60  \n\n[2018352 rows x 9 columns]",
      "text/html": "<div>\n<style scoped>\n    .dataframe tbody tr th:only-of-type {\n        vertical-align: middle;\n    }\n\n    .dataframe tbody tr th {\n        vertical-align: top;\n    }\n\n    .dataframe thead th {\n        text-align: right;\n    }\n</style>\n<table border=\"1\" class=\"dataframe\">\n  <thead>\n    <tr style=\"text-align: right;\">\n      <th></th>\n      <th>county</th>\n      <th>is_business</th>\n      <th>product_type</th>\n      <th>target</th>\n      <th>is_consumption</th>\n      <th>datetime</th>\n      <th>data_block_id</th>\n      <th>row_id</th>\n      <th>prediction_unit_id</th>\n    </tr>\n  </thead>\n  <tbody>\n    <tr>\n      <th>0</th>\n      <td>0</td>\n      <td>False</td>\n      <td>1</td>\n      <td>0.713</td>\n      <td>False</td>\n      <td>2021-09-01 00:00:00</td>\n      <td>0</td>\n      <td>0</td>\n      <td>0</td>\n    </tr>\n    <tr>\n      <th>1</th>\n      <td>0</td>\n      <td>False</td>\n      <td>1</td>\n      <td>96.590</td>\n      <td>True</td>\n      <td>2021-09-01 00:00:00</td>\n      <td>0</td>\n      <td>1</td>\n      <td>0</td>\n    </tr>\n    <tr>\n      <th>2</th>\n      <td>0</td>\n      <td>False</td>\n      <td>2</td>\n      <td>0.000</td>\n      <td>False</td>\n      <td>2021-09-01 00:00:00</td>\n      <td>0</td>\n      <td>2</td>\n      <td>1</td>\n    </tr>\n    <tr>\n      <th>3</th>\n      <td>0</td>\n      <td>False</td>\n      <td>2</td>\n      <td>17.314</td>\n      <td>True</td>\n      <td>2021-09-01 00:00:00</td>\n      <td>0</td>\n      <td>3</td>\n      <td>1</td>\n    </tr>\n    <tr>\n      <th>4</th>\n      <td>0</td>\n      <td>False</td>\n      <td>3</td>\n      <td>2.904</td>\n      <td>False</td>\n      <td>2021-09-01 00:00:00</td>\n      <td>0</td>\n      <td>4</td>\n      <td>2</td>\n    </tr>\n    <tr>\n      <th>...</th>\n      <td>...</td>\n      <td>...</td>\n      <td>...</td>\n      <td>...</td>\n      <td>...</td>\n      <td>...</td>\n      <td>...</td>\n      <td>...</td>\n      <td>...</td>\n    </tr>\n    <tr>\n      <th>2018347</th>\n      <td>15</td>\n      <td>True</td>\n      <td>0</td>\n      <td>197.233</td>\n      <td>True</td>\n      <td>2023-05-31 23:00:00</td>\n      <td>637</td>\n      <td>2018347</td>\n      <td>64</td>\n    </tr>\n    <tr>\n      <th>2018348</th>\n      <td>15</td>\n      <td>True</td>\n      <td>1</td>\n      <td>0.000</td>\n      <td>False</td>\n      <td>2023-05-31 23:00:00</td>\n      <td>637</td>\n      <td>2018348</td>\n      <td>59</td>\n    </tr>\n    <tr>\n      <th>2018349</th>\n      <td>15</td>\n      <td>True</td>\n      <td>1</td>\n      <td>28.404</td>\n      <td>True</td>\n      <td>2023-05-31 23:00:00</td>\n      <td>637</td>\n      <td>2018349</td>\n      <td>59</td>\n    </tr>\n    <tr>\n      <th>2018350</th>\n      <td>15</td>\n      <td>True</td>\n      <td>3</td>\n      <td>0.000</td>\n      <td>False</td>\n      <td>2023-05-31 23:00:00</td>\n      <td>637</td>\n      <td>2018350</td>\n      <td>60</td>\n    </tr>\n    <tr>\n      <th>2018351</th>\n      <td>15</td>\n      <td>True</td>\n      <td>3</td>\n      <td>196.240</td>\n      <td>True</td>\n      <td>2023-05-31 23:00:00</td>\n      <td>637</td>\n      <td>2018351</td>\n      <td>60</td>\n    </tr>\n  </tbody>\n</table>\n<p>2018352 rows × 9 columns</p>\n</div>"
     },
     "execution_count": 3,
     "metadata": {},
     "output_type": "execute_result"
    }
   ],
   "source": [
    "df_train = pd.read_csv(PATH_DATA_RAW / \"train.csv\").astype({\"is_consumption\": bool, \"is_business\": bool})\n",
    "df_train[\"datetime\"] = pd.to_datetime(df_train[\"datetime\"])\n",
    "df_train"
   ],
   "metadata": {
    "collapsed": false,
    "ExecuteTime": {
     "end_time": "2023-12-17T21:47:47.998404204Z",
     "start_time": "2023-12-17T21:47:46.714158795Z"
    }
   },
   "id": "ba014764a4185657"
  },
  {
   "cell_type": "code",
   "execution_count": 17,
   "outputs": [
    {
     "data": {
      "text/plain": "VBox(children=(HBox(children=(Dropdown(description='Unit ID:', options=(0, 1, 2, 3, 4, 5, 6, 7, 8, 9, 10, 11, …",
      "application/vnd.jupyter.widget-view+json": {
       "version_major": 2,
       "version_minor": 0,
       "model_id": "43f151d4b7a843e39578e741ab483ecd"
      }
     },
     "metadata": {},
     "output_type": "display_data"
    }
   ],
   "source": [
    "from IPython.display import display\n",
    "\n",
    "widget_select_unit = widgets.Dropdown(\n",
    "    options=list(df_train[\"prediction_unit_id\"].unique()),\n",
    "    value=0,\n",
    "    description='Unit ID:',\n",
    ")\n",
    "business_units = df_train.loc[df_train[\"is_business\"]][\"prediction_unit_id\"].unique()\n",
    "private_units = df_train.loc[~df_train[\"is_business\"]][\"prediction_unit_id\"].unique()\n",
    "\n",
    "widget_select_private = widgets.Dropdown(\n",
    "    options=[\"private\", \"business\"],\n",
    "    value=\"private\",\n",
    "    description='Client type: '\n",
    ")\n",
    "trace_con = go.Scatter(name=\"consumption\")\n",
    "trace_prod = go.Scatter(name=\"production\", opacity=0.6)\n",
    "widget_container = widgets.HBox([widget_select_private, widget_select_unit])\n",
    "figure_widget = go.FigureWidget(data=[trace_con, trace_prod])\n",
    "\n",
    "def update_figure_widget(change):\n",
    "    unit_series = df_train.loc[df_train[\"prediction_unit_id\"]==widget_select_unit.value]\n",
    "    unit_consumption_series = unit_series.loc[unit_series[\"is_consumption\"]]\n",
    "    unit_production_series = unit_series.loc[~unit_series[\"is_consumption\"]]\n",
    "    with figure_widget.batch_update():\n",
    "        figure_widget.data[0].x = unit_consumption_series[\"datetime\"]\n",
    "        figure_widget.data[0].y = unit_consumption_series[\"target\"]\n",
    "        figure_widget.data[1].x = unit_production_series[\"datetime\"]\n",
    "        figure_widget.data[1].y = unit_production_series[\"target\"]\n",
    "\n",
    "def update_select_unit_values(change):\n",
    "    display(widget_select_private.value)\n",
    "    if widget_select_private.value==\"private\":\n",
    "        widget_select_unit.options = private_units\n",
    "    elif widget_select_private.value==\"business\":\n",
    "        widget_select_unit.options = business_units\n",
    "    \n",
    "widget_select_unit.observe(update_figure_widget, \"value\")\n",
    "widget_select_private.observe(update_select_unit_values)\n",
    "\n",
    "display(widgets.VBox([widget_container, figure_widget]))"
   ],
   "metadata": {
    "collapsed": false,
    "ExecuteTime": {
     "end_time": "2023-12-17T22:52:40.512041346Z",
     "start_time": "2023-12-17T22:52:40.455375556Z"
    }
   },
   "id": "b931865f2aa8a6c1"
  },
  {
   "cell_type": "code",
   "execution_count": null,
   "outputs": [],
   "source": [],
   "metadata": {
    "collapsed": false
   },
   "id": "cc8039aa18a46fa9"
  }
 ],
 "metadata": {
  "kernelspec": {
   "display_name": "Python 3",
   "language": "python",
   "name": "python3"
  },
  "language_info": {
   "codemirror_mode": {
    "name": "ipython",
    "version": 2
   },
   "file_extension": ".py",
   "mimetype": "text/x-python",
   "name": "python",
   "nbconvert_exporter": "python",
   "pygments_lexer": "ipython2",
   "version": "2.7.6"
  }
 },
 "nbformat": 4,
 "nbformat_minor": 5
}
