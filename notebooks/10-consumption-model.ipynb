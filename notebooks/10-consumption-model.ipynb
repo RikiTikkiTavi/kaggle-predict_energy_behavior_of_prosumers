{
 "cells": [
  {
   "cell_type": "code",
   "execution_count": 32,
   "metadata": {},
   "outputs": [],
   "source": [
    "import pandas as pd\n",
    "import numpy as np\n",
    "import lightgbm as lgb\n",
    "from sklearn.metrics import mean_absolute_error\n",
    "from sklearn.ensemble import VotingRegressor"
   ]
  },
  {
   "cell_type": "code",
   "execution_count": 110,
   "metadata": {},
   "outputs": [],
   "source": [
    "df = pd.read_parquet(\n",
    "    \"/beegfs/ws/0/s4610340-energy_behavior/yahor/kaggle-predict_energy_behavior_of_prosumers/data/processed/train/make_features/df_features.parquet\",\n",
    "    engine=\"fastparquet\"\n",
    ").dropna()\n",
    "df_c = df.loc[df[\"is_consumption\"]==1].copy()"
   ]
  },
  {
   "cell_type": "code",
   "execution_count": 111,
   "metadata": {},
   "outputs": [],
   "source": [
    "df_c[\"target_per_eic\"] = np.where(\n",
    "    df_c[\"eic_count\"] > 0,\n",
    "    df_c[\"target\"] / df_c[\"eic_count\"],\n",
    "    df_c[\"target\"],\n",
    ")\n",
    "\n",
    "df_c[\"target_per_eic_diff_48h\"] = df_c[\"target_per_eic\"] - df_c[\"target_per_eic_48h\"]\n",
    "df_c[\"target_per_eic_diff_168h\"] = df_c[\"target_per_eic\"] - df_c[\"target_per_eic_168h\"]\n",
    "\n",
    "lags = [d*24 for d in (2,3,4,5,6,7,9,10)]\n",
    "for lag in lags:\n",
    "    df_c[f\"target_per_eic_diff_48h_lag{lag}h\"] = df_c[f\"target_per_eic_{lag}h\"] - df_c[f\"target_per_eic_{lag+48}h\"]\n",
    "\n",
    "df_c[\"target_per_eic_diff_48h_median\"] = df_c[[f\"target_per_eic_diff_48h_lag{lag}h\" for lag in lags]].median(axis=1)\n",
    "df_c[\"target_per_eic_diff_48h_q25\"] = df_c[[f\"target_per_eic_diff_48h_lag{lag}h\" for lag in lags]].quantile(0.25, axis=1)\n",
    "df_c[\"target_per_eic_diff_48h_q75\"] = df_c[[f\"target_per_eic_diff_48h_lag{lag}h\" for lag in lags]].quantile(0.75, axis=1)\n",
    "\n",
    "lags_168 = [d*24 for d in (2,3,4,5,6,7)]\n",
    "for lag in lags_168:\n",
    "    df_c[f\"target_per_eic_diff_168h_lag{lag}h\"] = df_c[f\"target_per_eic_{lag}h\"] - df_c[f\"target_per_eic_{lag+168}h\"]\n",
    "\n",
    "df_c[\"target_per_eic_diff_168h_median\"] = df_c[[f\"target_per_eic_diff_168h_lag{lag}h\" for lag in lags_168]].median(axis=1)\n",
    "df_c[\"target_per_eic_diff_168h_q25\"] = df_c[[f\"target_per_eic_diff_168h_lag{lag}h\" for lag in lags_168]].quantile(0.25, axis=1)\n",
    "df_c[\"target_per_eic_diff_168h_q75\"] = df_c[[f\"target_per_eic_diff_168h_lag{lag}h\" for lag in lags_168]].quantile(0.75, axis=1)\n",
    "\n",
    "weather_features = [\n",
    "    \"temperature_historical\",\n",
    "    \"dewpoint_historical\",\n",
    "    \"rain_historical\",\n",
    "    \"snowfall_historical\",\n",
    "    \"cloudcover_total_historical\",\n",
    "    \"cloudcover_low_historical\",\n",
    "    \"cloudcover_mid_historical\",\n",
    "    \"cloudcover_high_historical\",\n",
    "    \"windspeed_10m_historical\",\n",
    "    \"surface_solar_radiation_downwards_forecast\",\n",
    "    \"10_metre_u_wind_component_historical\",\n",
    "    \"10_metre_v_wind_component_historical\",\n",
    "    \"humidity_historical\",\n",
    "]\n",
    "\n",
    "for weather_feature in weather_features:\n",
    "    df_c[f\"diff_48h_{weather_feature}\"] = df_c[weather_feature] - df_c[f\"{weather_feature}_h48\"]\n",
    "    df_c[f\"diff_168h_{weather_feature}\"] = df_c[weather_feature] - df_c[f\"{weather_feature}_h168\"]\n"
   ]
  },
  {
   "cell_type": "code",
   "execution_count": 112,
   "metadata": {},
   "outputs": [],
   "source": [
    "df_c_train = df_c.loc[df_c[\"datetime\"] < pd.Timestamp(\"2023-02-01\")]\n",
    "df_c_val = df_c.loc[df_c[\"datetime\"] > pd.Timestamp(\"2023-02-01\")]"
   ]
  },
  {
   "cell_type": "code",
   "execution_count": 115,
   "metadata": {},
   "outputs": [
    {
     "data": {
      "text/plain": [
       "60.828268316861255"
      ]
     },
     "execution_count": 115,
     "metadata": {},
     "output_type": "execute_result"
    }
   ],
   "source": [
    "y_c_train = df_c_train[\"target_per_eic_diff_48h\"]\n",
    "y_c_val = df_c_val[\"target_per_eic_diff_48h\"]\n",
    "\n",
    "features_48 = [\n",
    "    # \"predictions_production\",\n",
    "    \"product_type\",\n",
    "    \"is_business\",\n",
    "    \"weekday\",\n",
    "    \"month\",\n",
    "    \"dayofyear\",\n",
    "    \"hour\",\n",
    "    \"eic_count\",\n",
    "    \"is_country_holiday\",\n",
    "    # Historical diff 0h\n",
    "    \"diff_48h_temperature_historical\",\n",
    "    \"diff_48h_dewpoint_historical\",\n",
    "    \"diff_48h_rain_historical\",\n",
    "    \"diff_48h_snowfall_historical\",\n",
    "    \"diff_48h_cloudcover_total_historical\",\n",
    "    \"diff_48h_windspeed_10m_historical\",\n",
    "    \"diff_48h_surface_solar_radiation_downwards_forecast\",\n",
    "    \"diff_48h_10_metre_u_wind_component_historical\",\n",
    "    \"diff_48h_10_metre_v_wind_component_historical\",\n",
    "    \"diff_48h_humidity_historical\",\n",
    "    # # Historical diff 48h\n",
    "    # \"diff_48h_lag_48h_temperature_historical\",\n",
    "    # \"diff_48h_lag_48h_dewpoint_historical\",\n",
    "    # \"diff_48h_lag_48h_rain_historical\",\n",
    "    # \"diff_48h_lag_48h_snowfall_historical\",\n",
    "    # \"diff_48h_lag_48h_cloudcover_total_historical\",\n",
    "    # \"diff_48h_lag_48h_windspeed_10m_historical\",\n",
    "    # \"diff_48h_lag_48h_surface_solar_radiation_downwards_forecast\",\n",
    "    # \"diff_48h_lag_48h_10_metre_u_wind_component_historical\",\n",
    "    # \"diff_48h_lag_48h_10_metre_v_wind_component_historical\",\n",
    "    # \"diff_48h_lag_48h_humidity_historical\",\n",
    "    # Target features\n",
    "    \"target_per_eic_diff_48h_lag48h\",\n",
    "    \"target_per_eic_diff_48h_lag72h\",\n",
    "    \"target_per_eic_diff_48h_lag96h\",\n",
    "    \"target_per_eic_diff_48h_lag120h\",\n",
    "    \"target_per_eic_diff_48h_lag144h\",\n",
    "    \"target_per_eic_diff_48h_lag168h\",\n",
    "    \"target_per_eic_diff_48h_median\",\n",
    "    \"target_per_eic_diff_48h_q25\",\n",
    "    \"target_per_eic_diff_48h_q75\",\n",
    "]\n",
    "\n",
    "model_48 = lgb.LGBMRegressor(\n",
    "    n_estimators=500,\n",
    "    learning_rate=0.06,\n",
    "    colsample_bytree=0.9,\n",
    "    colsample_bynode=0.6,\n",
    "    reg_alpha=3.5,\n",
    "    reg_lambda=1.5,\n",
    "    max_depth=16,\n",
    "    num_leaves=500,\n",
    "    min_child_samples=50,\n",
    "    objective=\"regression_l1\",\n",
    "    device=\"cpu\",\n",
    "    n_jobs=12,\n",
    "    verbosity=0,\n",
    "    gpu_device_id=2,\n",
    "    random_state=333,\n",
    ")\n",
    "\n",
    "model_48.fit(df_c_train[features_48], y_c_train)\n",
    "\n",
    "predicted_diff_48h = model_48.predict(df_c_val[features_48])\n",
    "predicted_target_48h = (predicted_diff_48h + df_c_val[\"target_per_eic_48h\"]) * df_c_val[\"eic_count\"]\n",
    "\n",
    "true_diff_48h = y_c_val\n",
    "true_target_48h = np.where(\n",
    "    df_c_val[\"eic_count\"] > 0,\n",
    "    (true_diff_48h + df_c_val[\"target_per_eic_48h\"]) * df_c_val[\"eic_count\"],\n",
    "    true_diff_48h + df_c_val[\"target_per_eic_48h\"]\n",
    ")\n",
    "\n",
    "mean_absolute_error(true_target_48h, predicted_target_48h)"
   ]
  },
  {
   "cell_type": "markdown",
   "metadata": {},
   "source": [
    "### Model diff with 7d ago"
   ]
  },
  {
   "cell_type": "code",
   "execution_count": 116,
   "metadata": {},
   "outputs": [
    {
     "data": {
      "text/plain": [
       "62.756836927224334"
      ]
     },
     "execution_count": 116,
     "metadata": {},
     "output_type": "execute_result"
    }
   ],
   "source": [
    "y_c_train = df_c_train[\"target_per_eic_diff_168h\"]\n",
    "y_c_val = df_c_val[\"target_per_eic_diff_168h\"]\n",
    "\n",
    "features_168 = [\n",
    "    # \"predictions_production\",\n",
    "    \"product_type\",\n",
    "    \"is_business\",\n",
    "    \"weekday\",\n",
    "    \"month\",\n",
    "    \"dayofyear\",\n",
    "    \"hour\",\n",
    "    \"eic_count\",\n",
    "    \"is_country_holiday\",\n",
    "    # Historical diff 0h\n",
    "    \"diff_168h_temperature_historical\",\n",
    "    \"diff_168h_dewpoint_historical\",\n",
    "    \"diff_168h_rain_historical\",\n",
    "    \"diff_168h_snowfall_historical\",\n",
    "    \"diff_168h_cloudcover_total_historical\",\n",
    "    \"diff_168h_windspeed_10m_historical\",\n",
    "    \"diff_168h_surface_solar_radiation_downwards_forecast\",\n",
    "    \"diff_168h_10_metre_u_wind_component_historical\",\n",
    "    \"diff_168h_10_metre_v_wind_component_historical\",\n",
    "    \"diff_168h_humidity_historical\",\n",
    "    # # Historical diff 48h\n",
    "    # \"diff_48h_lag_48h_temperature_historical\",\n",
    "    # \"diff_48h_lag_48h_dewpoint_historical\",\n",
    "    # \"diff_48h_lag_48h_rain_historical\",\n",
    "    # \"diff_48h_lag_48h_snowfall_historical\",\n",
    "    # \"diff_48h_lag_48h_cloudcover_total_historical\",\n",
    "    # \"diff_48h_lag_48h_windspeed_10m_historical\",\n",
    "    # \"diff_48h_lag_48h_surface_solar_radiation_downwards_forecast\",\n",
    "    # \"diff_48h_lag_48h_10_metre_u_wind_component_historical\",\n",
    "    # \"diff_48h_lag_48h_10_metre_v_wind_component_historical\",\n",
    "    # \"diff_48h_lag_48h_humidity_historical\",\n",
    "    # Target features\n",
    "    \"target_per_eic_diff_168h_lag48h\",\n",
    "    \"target_per_eic_diff_168h_lag72h\",\n",
    "    \"target_per_eic_diff_168h_lag96h\",\n",
    "    \"target_per_eic_diff_168h_lag120h\",\n",
    "    \"target_per_eic_diff_168h_lag144h\",\n",
    "    \"target_per_eic_diff_168h_lag168h\",\n",
    "    \"target_per_eic_diff_168h_median\",\n",
    "    \"target_per_eic_diff_168h_q25\",\n",
    "    \"target_per_eic_diff_168h_q75\",\n",
    "    # \"target_per_eic_diff_48h_lag48h\",\n",
    "    # \"target_per_eic_diff_48h_lag72h\",\n",
    "    # \"target_per_eic_diff_48h_lag96h\",\n",
    "    # \"target_per_eic_diff_48h_lag120h\",\n",
    "    # \"target_per_eic_diff_48h_lag144h\",\n",
    "    # \"target_per_eic_diff_48h_lag168h\",\n",
    "    # \"target_per_eic_diff_48h_median\",\n",
    "    # \"target_per_eic_diff_48h_q25\",\n",
    "    # \"target_per_eic_diff_48h_q75\",\n",
    "]\n",
    "\n",
    "model_168 = lgb.LGBMRegressor(\n",
    "    n_estimators=500,\n",
    "    learning_rate=0.06,\n",
    "    colsample_bytree=0.9,\n",
    "    colsample_bynode=0.6,\n",
    "    reg_alpha=3.5,\n",
    "    reg_lambda=1.5,\n",
    "    max_depth=16,\n",
    "    num_leaves=500,\n",
    "    min_child_samples=50,\n",
    "    objective=\"regression_l1\",\n",
    "    device=\"cpu\",\n",
    "    n_jobs=12,\n",
    "    verbosity=0,\n",
    "    gpu_device_id=2,\n",
    "    random_state=333,\n",
    ")\n",
    "\n",
    "model_168.fit(df_c_train[features_168], y_c_train)\n",
    "\n",
    "predicted_diff_168h = model_168.predict(df_c_val[features_168])\n",
    "predicted_target_168h = (predicted_diff_168h + df_c_val[\"target_per_eic_168h\"]) * df_c_val[\"eic_count\"]\n",
    "\n",
    "true_diff_168h = y_c_val\n",
    "true_target_168h = np.where(\n",
    "    df_c_val[\"eic_count\"] > 0,\n",
    "    (true_diff_168h + df_c_val[\"target_per_eic_168h\"]) * df_c_val[\"eic_count\"],\n",
    "    true_diff_168h + df_c_val[\"target_per_eic_168h\"]\n",
    ")\n",
    "\n",
    "mean_absolute_error(true_target_168h, predicted_target_168h)\n"
   ]
  },
  {
   "cell_type": "code",
   "execution_count": 117,
   "metadata": {},
   "outputs": [],
   "source": [
    "assert np.allclose(true_target_168h,true_target_48h, rtol=0.01)"
   ]
  },
  {
   "cell_type": "code",
   "execution_count": 118,
   "metadata": {},
   "outputs": [
    {
     "data": {
      "text/plain": [
       "55.77619076266462"
      ]
     },
     "execution_count": 118,
     "metadata": {},
     "output_type": "execute_result"
    }
   ],
   "source": [
    "predictions_avg = (predicted_target_168h + predicted_target_48h) / 2\n",
    "mean_absolute_error(predictions_avg, true_target_48h)"
   ]
  },
  {
   "cell_type": "code",
   "execution_count": null,
   "metadata": {},
   "outputs": [],
   "source": []
  }
 ],
 "metadata": {
  "kernelspec": {
   "display_name": ".venv",
   "language": "python",
   "name": "python3"
  },
  "language_info": {
   "codemirror_mode": {
    "name": "ipython",
    "version": 3
   },
   "file_extension": ".py",
   "mimetype": "text/x-python",
   "name": "python",
   "nbconvert_exporter": "python",
   "pygments_lexer": "ipython3",
   "version": "3.10.8"
  }
 },
 "nbformat": 4,
 "nbformat_minor": 2
}
