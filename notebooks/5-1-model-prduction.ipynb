{
 "cells": [
  {
   "cell_type": "code",
   "execution_count": null,
   "metadata": {},
   "outputs": [],
   "source": [
    "import pandas as pd\n",
    "import os\n",
    "from pathlib import Path\n",
    "import plotly.graph_objects as go\n",
    "import plotly.express as px\n",
    "import seaborn as sns\n",
    "import matplotlib.pyplot as plt\n",
    "import json\n",
    "import predict_energy_behavior.data.read\n",
    "import predict_energy_behavior.data.constants\n",
    "import predict_energy_behavior.features\n",
    "from predict_energy_behavior.models.production.solar_output_regression import SolarOutputRegression, Parameter\n",
    "from predict_energy_behavior.visualize.inspect_solar_output import inspect_solar_output_predictions\n",
    "from predict_energy_behavior.data.constants import product_type_to_name\n",
    "import numpy as np\n",
    "import polars as pl\n",
    "from scipy.optimize import curve_fit\n",
    "from sklearn.metrics import mean_absolute_error\n",
    "\n",
    "%load_ext autoreload\n",
    "%autoreload 2"
   ]
  },
  {
   "cell_type": "code",
   "execution_count": null,
   "metadata": {},
   "outputs": [],
   "source": [
    "PATH_REPO_ROOT = Path().resolve().parent\n",
    "PATH_DATA = PATH_REPO_ROOT / \"data\"\n",
    "PATH_DATA_RAW = PATH_DATA / \"raw\"\n",
    "PATH_DATA_PROCESSED = PATH_DATA/\"processed\"\n",
    "PATH_DATA_RAW"
   ]
  },
  {
   "cell_type": "code",
   "execution_count": null,
   "metadata": {},
   "outputs": [],
   "source": [
    "df_features = pd.read_parquet(PATH_DATA_PROCESSED / \"train\" / \"make_features\" / \"df_features.parquet\").dropna()\n",
    "df_features = df_features.loc[df_features[\"is_consumption\"]==0]\n",
    "with open(PATH_DATA_RAW / \"county_id_to_name_map.json\", \"r\") as f:\n",
    "    county_id_to_name = json.load(f)\n",
    "    county_id_to_name = {int(k): v.lower().capitalize() for k,v in county_id_to_name.items()}\n",
    "\n",
    "df_features[\"product_name\"] = df_features[\"product_type\"].map(product_type_to_name)\n",
    "\n",
    "df_features[\"county_name\"] = df_features[\"county\"].map(county_id_to_name)\n",
    "df_features[[\"county_name\", \"product_name\"]] \n",
    "list(df_features.columns)"
   ]
  },
  {
   "cell_type": "markdown",
   "metadata": {},
   "source": [
    "### Model target(I)"
   ]
  },
  {
   "cell_type": "code",
   "execution_count": null,
   "metadata": {},
   "outputs": [],
   "source": [
    "df_features[\"shortwave_radiation\"].describe()"
   ]
  },
  {
   "cell_type": "code",
   "execution_count": null,
   "metadata": {},
   "outputs": [],
   "source": [
    "df_features.loc[df_features[\"shortwave_radiation\"] == 0.0][\"target\"].describe()"
   ]
  },
  {
   "cell_type": "code",
   "execution_count": null,
   "metadata": {},
   "outputs": [],
   "source": [
    "def get_shortwave_df(df_features: pd.DataFrame, ws: int = 50):\n",
    "    df = df_features.set_index(\"shortwave_radiation\").sort_index()\n",
    "    df = df.loc[(df[\"rain_historical\"]==0) & (df[\"snowfall_historical\"]==0) & (df.index > 0.0)]\n",
    "    df[\"target\"] = df[\"target\"] / df[\"installed_capacity\"]\n",
    "    df = df[\"target\"].rolling(ws).mean().dropna()\n",
    "    df.index = df.index/1000\n",
    "    return df\n",
    "\n",
    "def explore_target_from_shortwave_rad(df_features: pd.DataFrame, ws: int = 50):\n",
    "    df = get_shortwave_df(df_features, ws)\n",
    "    fig = go.Figure()\n",
    "    fig.add_trace(go.Scatter(\n",
    "        x=df.index,\n",
    "        y=df\n",
    "    ))\n",
    "    return fig, df\n",
    "\n",
    "fig, df = explore_target_from_shortwave_rad(df_features, 10)\n",
    "fig"
   ]
  },
  {
   "cell_type": "code",
   "execution_count": null,
   "metadata": {},
   "outputs": [],
   "source": [
    "f = lambda I, k_1, thr_1, k_2, thr_2, k_3: np.where(\n",
    "    I<=thr_1,\n",
    "    I*k_1,\n",
    "    np.where(\n",
    "        I >= thr_2,\n",
    "        (I-thr_2)*k_3 + thr_2*k_2 + thr_1*k_1,\n",
    "        (I-thr_1)*k_2 + thr_1*k_1, \n",
    "    )\n",
    ")\n",
    "popt, pcov = curve_fit(f, xdata=df.index, ydata=df, p0=(0.3, 0.1, 0.75, 0.6, 0.4), bounds=[(0., 0., 0., 0.0, 0.0), (1, 1, 1, 1, 1)])\n",
    "print(popt)\n",
    "fig = go.Figure() \n",
    "fig.add_trace(go.Scatter(\n",
    "    x=df.index,\n",
    "    y=df\n",
    "))\n",
    "x = np.linspace(0.0, 0.8, 100000)\n",
    "fig.add_trace(\n",
    "    go.Scatter(\n",
    "        x=x,\n",
    "        y=f(x, *popt)\n",
    "    )\n",
    ")"
   ]
  },
  {
   "cell_type": "markdown",
   "metadata": {},
   "source": [
    "### Model 1 order"
   ]
  },
  {
   "cell_type": "code",
   "execution_count": null,
   "metadata": {},
   "outputs": [],
   "source": [
    "estimator = SolarOutputRegression(\n",
    "    regressors={\n",
    "        \"temperature\": \"temperature_historical\",\n",
    "        \"dewpoint\": \"dewpoint_historical\",\n",
    "        \"shortwave_radiation\": \"shortwave_radiation\",\n",
    "        \"snowfall\": \"snowfall_historical\",\n",
    "        \"rain\": \"rain_historical\",\n",
    "        \"windspeed_10m\": \"windspeed_10m_historical\",\n",
    "        \"installed_capacity\": \"installed_capacity\",\n",
    "    }\n",
    ")\n",
    "\n",
    "estimator.fit(df_features, df_features[\"target\"])\n",
    "\n",
    "print(f\"Score: {estimator.loss.__name__}={estimator.optim_result.fun}\")\n",
    "print(estimator.weights)"
   ]
  },
  {
   "cell_type": "code",
   "execution_count": null,
   "metadata": {},
   "outputs": [],
   "source": [
    "hist_regressors = {\n",
    "    \"temperature\": \"temperature_historical\",\n",
    "    \"dewpoint\": \"dewpoint_historical\",\n",
    "    \"shortwave_radiation\": \"shortwave_radiation\",\n",
    "    \"snowfall\": \"snowfall_historical\",\n",
    "    \"rain\": \"rain_historical\",\n",
    "    \"windspeed_10m\": \"windspeed_10m_historical\",\n",
    "    \"installed_capacity\": \"installed_capacity\",\n",
    "}\n",
    "\n",
    "fut_regressors = {\n",
    "    \"temperature\": \"temperature_forecast\",\n",
    "    \"dewpoint\": \"dewpoint_forecast\",\n",
    "    \"shortwave_radiation\": \"surface_solar_radiation_downwards_forecast\",\n",
    "    \"snowfall\": \"snowfall_forecast\",\n",
    "    \"rain\": \"rain_forecast\",\n",
    "    \"windspeed_10m\": \"windspeed_10m_forecast\",\n",
    "    \"installed_capacity\": \"installed_capacity_forecast\",\n",
    "}\n",
    "\n",
    "_parameters = [\n",
    "\tParameter(name=\"C_area\", value=4.0, bounds=(0.0, 10.0)),\n",
    "\tParameter(name=\"C_fog\", value=0.14, bounds=(0.0, 1.0)),\n",
    "\tParameter(name=\"C_dew\", value=0.65, bounds=(0.0, 1.0)),\n",
    "    Parameter(name=\"C_rain\", value=0.1, bounds=(0.1, 1.0)),\n",
    "    Parameter(name=\"C_rad_tot_k1\", value=0.3, bounds=(0.0, 1.0)),\n",
    "    Parameter(name=\"C_rad_tot_k2\", value=0.74, bounds=(0.0, 1.0)),\n",
    "    Parameter(name=\"C_rad_tot_k3\", value=0.4, bounds=(0.0, 1.0)),\n",
    "    Parameter(name=\"C_rad_tot_b1\", value=0.097, bounds=(0.0, 0.2)),\n",
    "    Parameter(name=\"C_rad_tot_b2\", value=0.6, bounds=(0.21, 0.7)),\n",
    "    Parameter(name=f\"C_snow_thr\",value=0.3, bounds=(0.2, 0.5)),\n",
    "    Parameter(name=f\"C_snow_const\",value=0.0014, bounds=(0.0, 1.0)),\n",
    "]\n",
    "\n",
    "estimator = SolarOutputRegression.from_params(\n",
    "    params=_parameters,\n",
    "    regressors={\n",
    "        \"temperature\": \"temperature_historical\",\n",
    "        \"dewpoint\": \"dewpoint_historical\",\n",
    "        \"shortwave_radiation\": \"shortwave_radiation\",\n",
    "        \"snowfall\": \"snowfall_historical\",\n",
    "        \"rain\": \"rain_historical\",\n",
    "        \"windspeed_10m\": \"windspeed_10m_historical\",\n",
    "        \"installed_capacity\": \"installed_capacity\",\n",
    "    }\n",
    ")\n",
    "\n",
    "estimator.fit(df_features, df_features[\"target\"])\n",
    "print(f\"Score (hist): {estimator.loss.__name__}={estimator.optim_result.fun}\")\n",
    "print(estimator.weights)\n",
    "\n",
    "estimator.set_regressors(fut_regressors)\n",
    "preds_f = estimator.predict(df_features)\n",
    "print(f\"Score (fut): {estimator.loss.__name__}={mean_absolute_error(preds_f, df_features['target'])}\")"
   ]
  },
  {
   "cell_type": "code",
   "execution_count": null,
   "metadata": {},
   "outputs": [],
   "source": [
    "_parameters = [\n",
    "\tParameter(name=\"C_area\", value=4.0, bounds=(0.0, 10.0)),\n",
    "\tParameter(name=\"C_fog\", value=0.14, bounds=(0.0, 1.0)),\n",
    "\tParameter(name=\"C_dew\", value=0.65, bounds=(0.0, 1.0)),\n",
    "    Parameter(name=\"C_rain\", value=0.1, bounds=(0.1, 1.0)),\n",
    "    Parameter(name=\"C_rad_tot_k1\", value=0.3, bounds=(0.0, 1.0)),\n",
    "    Parameter(name=\"C_rad_tot_k2\", value=0.74, bounds=(0.0, 1.0)),\n",
    "    Parameter(name=\"C_rad_tot_k3\", value=0.4, bounds=(0.0, 1.0)),\n",
    "    Parameter(name=\"C_rad_tot_b1\", value=0.097, bounds=(0.0, 0.2)),\n",
    "    Parameter(name=\"C_rad_tot_b2\", value=0.6, bounds=(0.21, 0.7)),\n",
    "    Parameter(name=f\"C_snow_thr\",value=0.3, bounds=(0.2, 0.5)),\n",
    "    Parameter(name=f\"C_snow_const\",value=0.0014, bounds=(0.0, 1.0)),\n",
    "]\n",
    "\n",
    "estimator = SolarOutputRegression.from_params(\n",
    "    params=_parameters,\n",
    "    regressors={\n",
    "        \"temperature\": \"temperature_forecast\",\n",
    "        \"dewpoint\": \"dewpoint_forecast\",\n",
    "        \"shortwave_radiation\": \"surface_solar_radiation_downwards_forecast\",\n",
    "        \"snowfall\": \"snowfall_forecast\",\n",
    "        \"rain\": \"rain_forecast\",\n",
    "        \"windspeed_10m\": \"windspeed_10m_forecast\",\n",
    "        \"installed_capacity\": \"installed_capacity\",\n",
    "    }\n",
    ")\n",
    "\n",
    "estimator.fit(df_features, df_features[\"target\"])\n",
    "print(f\"Score (fut): {estimator.loss.__name__}={estimator.optim_result.fun}\")\n",
    "print(estimator.weights)"
   ]
  },
  {
   "cell_type": "code",
   "execution_count": null,
   "metadata": {},
   "outputs": [],
   "source": []
  }
 ],
 "metadata": {
  "kernelspec": {
   "display_name": ".venv",
   "language": "python",
   "name": "python3"
  },
  "language_info": {
   "codemirror_mode": {
    "name": "ipython",
    "version": 3
   },
   "file_extension": ".py",
   "mimetype": "text/x-python",
   "name": "python",
   "nbconvert_exporter": "python",
   "pygments_lexer": "ipython3",
   "version": "3.10.8"
  }
 },
 "nbformat": 4,
 "nbformat_minor": 2
}
